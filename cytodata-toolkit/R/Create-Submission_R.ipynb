{
 "cells": [
  {
   "cell_type": "code",
   "execution_count": 1,
   "metadata": {
    "scrolled": true
   },
   "outputs": [
    {
     "name": "stderr",
     "output_type": "stream",
     "text": [
      "── Attaching packages ─────────────────────────────────────── tidyverse 1.2.1 ──\n",
      "✔ ggplot2 3.0.0     ✔ purrr   0.2.5\n",
      "✔ tibble  1.4.2     ✔ dplyr   0.7.6\n",
      "✔ tidyr   0.8.1     ✔ stringr 1.3.1\n",
      "✔ readr   1.1.1     ✔ forcats 0.3.0\n",
      "Warning message:\n",
      "“package ‘ggplot2’ was built under R version 3.4.3”Warning message:\n",
      "“package ‘tibble’ was built under R version 3.4.3”Warning message:\n",
      "“package ‘tidyr’ was built under R version 3.4.3”Warning message:\n",
      "“package ‘purrr’ was built under R version 3.4.3”Warning message:\n",
      "“package ‘dplyr’ was built under R version 3.4.3”Warning message:\n",
      "“package ‘stringr’ was built under R version 3.4.3”Warning message:\n",
      "“package ‘forcats’ was built under R version 3.4.3”── Conflicts ────────────────────────────────────────── tidyverse_conflicts() ──\n",
      "✖ dplyr::filter() masks stats::filter()\n",
      "✖ dplyr::lag()    masks stats::lag()\n",
      "Warning message:\n",
      "“package ‘cytominer’ was built under R version 3.4.3”\n",
      "Attaching package: ‘cytominer’\n",
      "\n",
      "The following object is masked from ‘package:stats’:\n",
      "\n",
      "    aggregate\n",
      "\n",
      "The following object is masked from ‘package:base’:\n",
      "\n",
      "    transform\n",
      "\n",
      "\n",
      "Attaching package: ‘magrittr’\n",
      "\n",
      "The following object is masked from ‘package:purrr’:\n",
      "\n",
      "    set_names\n",
      "\n",
      "The following object is masked from ‘package:tidyr’:\n",
      "\n",
      "    extract\n",
      "\n",
      "Warning message:\n",
      "“package ‘RCurl’ was built under R version 3.4.3”Loading required package: bitops\n",
      "\n",
      "Attaching package: ‘RCurl’\n",
      "\n",
      "The following object is masked from ‘package:tidyr’:\n",
      "\n",
      "    complete\n",
      "\n"
     ]
    }
   ],
   "source": [
    "library(tidyverse)\n",
    "library(cytominer)\n",
    "library(magrittr)\n",
    "library(RCurl)"
   ]
  },
  {
   "cell_type": "code",
   "execution_count": 2,
   "metadata": {},
   "outputs": [],
   "source": [
    "load_dataset  <- function(partition, dataset,feature){\n",
    "    file_name  <- read_csv(\"../datasets.csv\") \n",
    "    x  <-  file_name %>% filter(\n",
    "         Partition == partition,\n",
    "         Dataset == dataset,\n",
    "         Features == feature) %>% \n",
    "         extract2(\"Link\")\n",
    "\n",
    "    return(read_csv(x) %>% \n",
    "          mutate(Metadata_dataset = dataset) %>%\n",
    "          mutate(Metadata_partition = partition) %>% \n",
    "          mutate(Metadata_features = feature) \n",
    "          )\n",
    "    }"
   ]
  },
  {
   "cell_type": "markdown",
   "metadata": {},
   "source": [
    "# Load data \n",
    "We load training and test datasets for both genetic perturbation experiments "
   ]
  },
  {
   "cell_type": "code",
   "execution_count": 3,
   "metadata": {},
   "outputs": [
    {
     "name": "stderr",
     "output_type": "stream",
     "text": [
      "Parsed with column specification:\n",
      "cols(\n",
      "  Dataset = col_character(),\n",
      "  Partition = col_character(),\n",
      "  Features = col_character(),\n",
      "  Link = col_character()\n",
      ")\n",
      "Warning message:\n",
      "“package ‘bindrcpp’ was built under R version 3.4.3”Parsed with column specification:\n",
      "cols(\n",
      "  .default = col_double(),\n",
      "  Metadata_Well = col_character(),\n",
      "  Metadata_Plate_Map_Name = col_character(),\n",
      "  Metadata_well_position = col_character(),\n",
      "  Metadata_gene_name = col_character(),\n",
      "  Metadata_pert_name = col_character(),\n",
      "  Metadata_broad_sample = col_character(),\n",
      "  Metadata_cell_line = col_character(),\n",
      "  Metadata_ASSAY_WELL_ROLE = col_character(),\n",
      "  Metadata_pert_id = col_character(),\n",
      "  Metadata_pert_mfc_id = col_character(),\n",
      "  Metadata_pert_well = col_character(),\n",
      "  Metadata_pert_id_vendor = col_character(),\n",
      "  Metadata_cell_id = col_character(),\n",
      "  Metadata_broad_sample_type = col_character(),\n",
      "  Metadata_pert_type = col_character()\n",
      ")\n",
      "See spec(...) for full column specifications.\n",
      "Parsed with column specification:\n",
      "cols(\n",
      "  Dataset = col_character(),\n",
      "  Partition = col_character(),\n",
      "  Features = col_character(),\n",
      "  Link = col_character()\n",
      ")\n",
      "Parsed with column specification:\n",
      "cols(\n",
      "  .default = col_double(),\n",
      "  Metadata_Plate = col_integer(),\n",
      "  Metadata_Well = col_character(),\n",
      "  Metadata_Assay_Plate_Barcode = col_integer(),\n",
      "  Metadata_Plate_Map_Name = col_character(),\n",
      "  Metadata_well_position = col_character(),\n",
      "  Metadata_gene_name = col_character(),\n",
      "  Metadata_pert_name = col_character(),\n",
      "  Metadata_broad_sample = col_character(),\n",
      "  Metadata_cell_line = col_character(),\n",
      "  Metadata_ASSAY_WELL_ROLE = col_character(),\n",
      "  Metadata_pert_id = col_character(),\n",
      "  Metadata_pert_mfc_id = col_character(),\n",
      "  Metadata_pert_well = col_character(),\n",
      "  Metadata_pert_id_vendor = col_character(),\n",
      "  Metadata_cell_id = col_character(),\n",
      "  Metadata_broad_sample_type = col_character(),\n",
      "  Metadata_pert_type = col_character(),\n",
      "  Cells_Children_Cytoplasm_Count = col_integer(),\n",
      "  Cells_Neighbors_FirstClosestObjectNumber_5 = col_integer(),\n",
      "  Cells_Neighbors_FirstClosestObjectNumber_Adjacent = col_integer()\n",
      "  # ... with 7 more columns\n",
      ")\n",
      "See spec(...) for full column specifications.\n"
     ]
    }
   ],
   "source": [
    "# bbbc37 data \n",
    "bbbc037_train  <- load_dataset(\"Train\",\"BBBC037\",\"CellProfiler\")  %>% \n",
    "    mutate(Metadata_x_mutation_status = \"none\")\n",
    "\n",
    "bbbc037_test <- load_dataset(\"Test\",\"BBBC037\",\"CellProfiler\")  %>% \n",
    "    mutate(Metadata_x_mutation_status = \"none\")\n",
    "\n",
    "bbbc037  <- rbind(bbbc037_train, bbbc037_test)"
   ]
  },
  {
   "cell_type": "code",
   "execution_count": 4,
   "metadata": {},
   "outputs": [
    {
     "name": "stderr",
     "output_type": "stream",
     "text": [
      "Parsed with column specification:\n",
      "cols(\n",
      "  Dataset = col_character(),\n",
      "  Partition = col_character(),\n",
      "  Features = col_character(),\n",
      "  Link = col_character()\n",
      ")\n",
      "Parsed with column specification:\n",
      "cols(\n",
      "  .default = col_double(),\n",
      "  Metadata_Well = col_character(),\n",
      "  Metadata_Plate_Map_Name = col_character(),\n",
      "  Metadata_well_position = col_character(),\n",
      "  Metadata_pert_type = col_character(),\n",
      "  Metadata_PublicID = col_character(),\n",
      "  Metadata_Transcript = col_character(),\n",
      "  Metadata_VirusPlateName = col_character(),\n",
      "  Metadata_x_mutation_status = col_character(),\n",
      "  Metadata_broad_sample = col_character(),\n",
      "  Metadata_pert_name = col_character(),\n",
      "  Metadata_pert_id = col_character(),\n",
      "  Metadata_pert_mfc_id = col_character(),\n",
      "  Metadata_pert_well = col_character(),\n",
      "  Metadata_pert_id_vendor = col_character(),\n",
      "  Metadata_cell_id = col_character(),\n",
      "  Metadata_broad_sample_type = col_character(),\n",
      "  Metadata_gene_name = col_character()\n",
      ")\n",
      "See spec(...) for full column specifications.\n",
      "Parsed with column specification:\n",
      "cols(\n",
      "  Dataset = col_character(),\n",
      "  Partition = col_character(),\n",
      "  Features = col_character(),\n",
      "  Link = col_character()\n",
      ")\n",
      "Parsed with column specification:\n",
      "cols(\n",
      "  .default = col_double(),\n",
      "  Metadata_Plate = col_integer(),\n",
      "  Metadata_Well = col_character(),\n",
      "  Metadata_Assay_Plate_Barcode = col_integer(),\n",
      "  Metadata_Plate_Map_Name = col_character(),\n",
      "  Metadata_well_position = col_character(),\n",
      "  Metadata_pert_type = col_character(),\n",
      "  Metadata_PublicID = col_character(),\n",
      "  Metadata_Transcript = col_character(),\n",
      "  Metadata_VirusPlateName = col_character(),\n",
      "  Metadata_x_mutation_status = col_character(),\n",
      "  Metadata_broad_sample = col_character(),\n",
      "  Metadata_pert_name = col_character(),\n",
      "  Metadata_pert_id = col_character(),\n",
      "  Metadata_pert_mfc_id = col_character(),\n",
      "  Metadata_pert_well = col_character(),\n",
      "  Metadata_pert_id_vendor = col_character(),\n",
      "  Metadata_cell_id = col_character(),\n",
      "  Metadata_broad_sample_type = col_character(),\n",
      "  Cells_Children_Cytoplasm_Count = col_integer(),\n",
      "  Cells_Neighbors_FirstClosestObjectNumber_5 = col_integer()\n",
      "  # ... with 11 more columns\n",
      ")\n",
      "See spec(...) for full column specifications.\n"
     ]
    }
   ],
   "source": [
    "# bbbc043 data \n",
    "bbbc043_train  <- load_dataset(\"Train\",\"BBBC043\",\"CellProfiler\")\n",
    " \n",
    "bbbc043_test <- load_dataset(\"Test\",\"BBBC043\",\"CellProfiler\")\n",
    "\n",
    "bbbc043  <- rbind(bbbc043_train, bbbc043_test)"
   ]
  },
  {
   "cell_type": "markdown",
   "metadata": {},
   "source": [
    "## Check dimensionality"
   ]
  },
  {
   "cell_type": "code",
   "execution_count": 5,
   "metadata": {},
   "outputs": [
    {
     "data": {
      "text/html": [
       "<ol class=list-inline>\n",
       "\t<li>6144</li>\n",
       "\t<li>1806</li>\n",
       "</ol>\n"
      ],
      "text/latex": [
       "\\begin{enumerate*}\n",
       "\\item 6144\n",
       "\\item 1806\n",
       "\\end{enumerate*}\n"
      ],
      "text/markdown": [
       "1. 6144\n",
       "2. 1806\n",
       "\n",
       "\n"
      ],
      "text/plain": [
       "[1] 6144 1806"
      ]
     },
     "metadata": {},
     "output_type": "display_data"
    },
    {
     "data": {
      "text/html": [
       "<ol class=list-inline>\n",
       "\t<li>1920</li>\n",
       "\t<li>1805</li>\n",
       "</ol>\n"
      ],
      "text/latex": [
       "\\begin{enumerate*}\n",
       "\\item 1920\n",
       "\\item 1805\n",
       "\\end{enumerate*}\n"
      ],
      "text/markdown": [
       "1. 1920\n",
       "2. 1805\n",
       "\n",
       "\n"
      ],
      "text/plain": [
       "[1] 1920 1805"
      ]
     },
     "metadata": {},
     "output_type": "display_data"
    }
   ],
   "source": [
    "dim(bbbc043)\n",
    "dim(bbbc037)"
   ]
  },
  {
   "cell_type": "markdown",
   "metadata": {},
   "source": [
    "## Extract common features "
   ]
  },
  {
   "cell_type": "code",
   "execution_count": 6,
   "metadata": {},
   "outputs": [
    {
     "data": {
      "text/html": [
       "1783"
      ],
      "text/latex": [
       "1783"
      ],
      "text/markdown": [
       "1783"
      ],
      "text/plain": [
       "[1] 1783"
      ]
     },
     "metadata": {},
     "output_type": "display_data"
    }
   ],
   "source": [
    "colnames_bbbc037 <- colnames(bbbc037)\n",
    "colnames_bbbc043 <- colnames(bbbc043)\n",
    "\n",
    "\n",
    "Metadata_names_bbbc037 <- c(\n",
    "   stringr::str_subset(colnames_bbbc037, \"^Meta\")\n",
    ") \n",
    "\n",
    "Metadata_names_bbbc043 <- c(\n",
    "   stringr::str_subset(colnames_bbbc043, \"^Meta\")\n",
    ") \n",
    "\n",
    "common_metadata  <- intersect(Metadata_names_bbbc037, Metadata_names_bbbc043)  \n",
    "\n",
    "common_features  <- setdiff(intersect(colnames_bbbc037, colnames_bbbc043),common_metadata)\n",
    "\n",
    "common_features %>% length"
   ]
  },
  {
   "cell_type": "code",
   "execution_count": 7,
   "metadata": {},
   "outputs": [],
   "source": [
    "bbbc037_na_feature  <- cytominer::drop_na_columns(\n",
    "    population = bbbc037,\n",
    "    variables = common_features,\n",
    "    cutoff = 0\n",
    "    )\n",
    "\n",
    "bbbc043_na_feature  <- cytominer::drop_na_columns(\n",
    "    population = bbbc043,\n",
    "    variables = common_features,\n",
    "    cutoff = 0\n",
    "    )"
   ]
  },
  {
   "cell_type": "code",
   "execution_count": 8,
   "metadata": {},
   "outputs": [
    {
     "name": "stdout",
     "output_type": "stream",
     "text": [
      "character(0)\n"
     ]
    }
   ],
   "source": [
    "bbbc043_na_feature %>% print"
   ]
  },
  {
   "cell_type": "markdown",
   "metadata": {},
   "source": [
    "# Concatenate data sets"
   ]
  },
  {
   "cell_type": "code",
   "execution_count": 9,
   "metadata": {},
   "outputs": [],
   "source": [
    "population  <- rbind(\n",
    "    bbbc037 %>% \n",
    "        select(c(common_metadata, common_features)),\n",
    "    bbbc043 %>% \n",
    "        select(c(common_metadata, common_features))\n",
    "    ) %>% \n",
    "    mutate(Metadata_perturbation = 'genetic')"
   ]
  },
  {
   "cell_type": "code",
   "execution_count": 10,
   "metadata": {},
   "outputs": [
    {
     "data": {
      "text/html": [
       "<ol class=list-inline>\n",
       "\t<li>8064</li>\n",
       "\t<li>1803</li>\n",
       "</ol>\n"
      ],
      "text/latex": [
       "\\begin{enumerate*}\n",
       "\\item 8064\n",
       "\\item 1803\n",
       "\\end{enumerate*}\n"
      ],
      "text/markdown": [
       "1. 8064\n",
       "2. 1803\n",
       "\n",
       "\n"
      ],
      "text/plain": [
       "[1] 8064 1803"
      ]
     },
     "metadata": {},
     "output_type": "display_data"
    }
   ],
   "source": [
    "population %>% dim"
   ]
  },
  {
   "cell_type": "markdown",
   "metadata": {},
   "source": [
    "# Normalize data\n",
    "We use cytominer to normalize both datasets with respect to the controls, i.e. EMPTY genes"
   ]
  },
  {
   "cell_type": "code",
   "execution_count": 11,
   "metadata": {},
   "outputs": [],
   "source": [
    "population_normalized  <- cytominer::normalize(\n",
    "    population, \n",
    "    variables = common_features, \n",
    "    strata = c(\"Metadata_perturbation\"), \n",
    "    sample = population %>% \n",
    "                filter(\n",
    "                    Metadata_gene_name == 'EMPTY',\n",
    "                    Metadata_partition == \"Train\"\n",
    "                ), \n",
    "    operation = \"standardize\"\n",
    ")\n"
   ]
  },
  {
   "cell_type": "code",
   "execution_count": 12,
   "metadata": {},
   "outputs": [
    {
     "data": {
      "text/html": [
       "<ol class=list-inline>\n",
       "\t<li>8064</li>\n",
       "\t<li>1803</li>\n",
       "</ol>\n"
      ],
      "text/latex": [
       "\\begin{enumerate*}\n",
       "\\item 8064\n",
       "\\item 1803\n",
       "\\end{enumerate*}\n"
      ],
      "text/markdown": [
       "1. 8064\n",
       "2. 1803\n",
       "\n",
       "\n"
      ],
      "text/plain": [
       "[1] 8064 1803"
      ]
     },
     "metadata": {},
     "output_type": "display_data"
    }
   ],
   "source": [
    "population %>% dim"
   ]
  },
  {
   "cell_type": "markdown",
   "metadata": {},
   "source": [
    "# Aggregate data "
   ]
  },
  {
   "cell_type": "code",
   "execution_count": 13,
   "metadata": {},
   "outputs": [],
   "source": [
    "population_aggregated  <- cytominer::aggregate(\n",
    "    population = population_normalized, \n",
    "    variables = common_features, \n",
    "    strata = c(\"Metadata_gene_name\",\"Metadata_dataset\",\"Metadata_x_mutation_status\"), \n",
    "    operation = \"mean\"\n",
    ") "
   ]
  },
  {
   "cell_type": "markdown",
   "metadata": {},
   "source": [
    "# Correlation matrix "
   ]
  },
  {
   "cell_type": "code",
   "execution_count": 14,
   "metadata": {},
   "outputs": [],
   "source": [
    "cor_matrix  <- cor(\n",
    "    x = population_aggregated %>% \n",
    "        filter(Metadata_dataset == 'BBBC037') %>% \n",
    "        select(common_features) %>% \n",
    "        as.matrix() %>% \n",
    "        t, \n",
    "    y = population_aggregated %>% \n",
    "        filter(Metadata_dataset == 'BBBC043') %>% \n",
    "        select(common_features) %>% \n",
    "        as.matrix() %>% \n",
    "        t,\n",
    "    use  = \"complete.obs\"\n",
    "    ) \n"
   ]
  },
  {
   "cell_type": "markdown",
   "metadata": {},
   "source": [
    "# Submision file "
   ]
  },
  {
   "cell_type": "code",
   "execution_count": 15,
   "metadata": {},
   "outputs": [],
   "source": [
    "# set column names \n",
    "colnames(cor_matrix)  <- population_aggregated %>% \n",
    "                            filter(Metadata_dataset == 'BBBC043') %>%\n",
    "                            extract2(\"Metadata_x_mutation_status\")\n",
    "\n",
    "# set row names \n",
    "rownames(cor_matrix)  <- population_aggregated %>% \n",
    "                            filter(Metadata_dataset == 'BBBC037') %>%\n",
    "                            extract2(\"Metadata_gene_name\")\n",
    "\n",
    "\n",
    "df  <- cor_matrix %>% as_data_frame() %>% \n",
    "            mutate(Metadata_gene_name = population_aggregated %>% \n",
    "                            filter(Metadata_dataset == 'BBBC037') %>%\n",
    "                            extract2(\"Metadata_gene_name\")) %>% \n",
    "            select(Metadata_gene_name, everything())\n",
    "\n",
    "# write submission file\n",
    "write.csv(df,\"../cytodata-baseline_R.csv\",row.names = FALSE)"
   ]
  }
 ],
 "metadata": {
  "kernelspec": {
   "display_name": "R",
   "language": "R",
   "name": "ir"
  },
  "language_info": {
   "codemirror_mode": "r",
   "file_extension": ".r",
   "mimetype": "text/x-r-source",
   "name": "R",
   "pygments_lexer": "r",
   "version": "3.4.1"
  }
 },
 "nbformat": 4,
 "nbformat_minor": 2
}
