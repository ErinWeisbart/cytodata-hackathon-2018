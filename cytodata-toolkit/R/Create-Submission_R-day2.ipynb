{
 "cells": [
  {
   "cell_type": "code",
   "execution_count": 4,
   "metadata": {
    "scrolled": true
   },
   "outputs": [],
   "source": [
    "library(tidyverse)\n",
    "library(cytominer)\n",
    "library(magrittr)"
   ]
  },
  {
   "cell_type": "code",
   "execution_count": 5,
   "metadata": {},
   "outputs": [],
   "source": [
    "load_dataset  <- function(partition, dataset,feature){\n",
    "    file_name  <- read_csv(\"../datasets.csv\") \n",
    "    x  <-  file_name %>% filter(\n",
    "         Partition == partition,\n",
    "         Dataset == dataset,\n",
    "         Features == feature) %>% \n",
    "         extract2(\"Link\")\n",
    "\n",
    "    return(read_csv(x) %>% \n",
    "          mutate(Metadata_dataset = dataset) %>%\n",
    "          mutate(Metadata_partition = partition) %>% \n",
    "          mutate(Metadata_features = feature) \n",
    "          )\n",
    "    }"
   ]
  },
  {
   "cell_type": "markdown",
   "metadata": {},
   "source": [
    "# Load data \n",
    "We load training and test datasets for both genetic perturbation experiments "
   ]
  },
  {
   "cell_type": "code",
   "execution_count": null,
   "metadata": {},
   "outputs": [
    {
     "name": "stderr",
     "output_type": "stream",
     "text": [
      "Parsed with column specification:\n",
      "cols(\n",
      "  Dataset = col_character(),\n",
      "  Partition = col_character(),\n",
      "  Features = col_character(),\n",
      "  Link = col_character()\n",
      ")\n"
     ]
    }
   ],
   "source": [
    "# bbbc37 data \n",
    "bbbc036_train  <- load_dataset(\"Train\",\"BBBC036\",\"DeepLearning\")  %>% \n",
    "    mutate(Metadata_x_mutation_status = \"none\")\n",
    "\n",
    "bbbc036_test <- load_dataset(\"Test\",\"BBBC036\",\"DeepLearning\")  %>% \n",
    "    mutate(Metadata_x_mutation_status = \"none\")\n",
    "\n",
    "bbbc036  <- rbind(bbbc036_train, bbbc036_test)"
   ]
  },
  {
   "cell_type": "code",
   "execution_count": null,
   "metadata": {},
   "outputs": [],
   "source": [
    "bbbc036_train %>% dim()\n",
    "bbbc036_test %>% dim()"
   ]
  },
  {
   "cell_type": "code",
   "execution_count": null,
   "metadata": {},
   "outputs": [],
   "source": [
    "# bbbc043 data \n",
    "bbbc022_train  <- load_dataset(\"Train\",\"BBBC022\",\"DeepLearning\")\n",
    " \n",
    "bbbc022_test <- load_dataset(\"Test\",\"BBBC022\",\"DeepLearning\")\n",
    "\n",
    "bbbc022  <- rbind(bbbc022_train, bbbc022_test)"
   ]
  },
  {
   "cell_type": "markdown",
   "metadata": {},
   "source": [
    "## Check dimensionality"
   ]
  },
  {
   "cell_type": "code",
   "execution_count": null,
   "metadata": {},
   "outputs": [],
   "source": [
    "dim(bbbc022)\n",
    "dim(bbbc036)"
   ]
  },
  {
   "cell_type": "markdown",
   "metadata": {},
   "source": [
    "## Extract common features "
   ]
  },
  {
   "cell_type": "code",
   "execution_count": null,
   "metadata": {},
   "outputs": [],
   "source": [
    "colnames_bbbc022 <- colnames(bbbc022)\n",
    "colnames_bbbc036 <- colnames(bbbc036)\n",
    "\n",
    "\n",
    "Metadata_names_bbbc022 <- c(\n",
    "   stringr::str_subset(colnames_bbbc022, \"^Meta\")\n",
    ") \n",
    "\n",
    "Metadata_names_bbbc036 <- c(\n",
    "   stringr::str_subset(colnames_bbbc036, \"^Meta\")\n",
    ") \n",
    "\n",
    "common_metadata  <- intersect(Metadata_names_bbbc022, Metadata_names_bbbc036)  \n",
    "common_features  <- setdiff(intersect(colnames_bbbc022, colnames_bbbc036),common_metadata)\n",
    "\n",
    "colnames_bbbc036 %>% length()"
   ]
  },
  {
   "cell_type": "code",
   "execution_count": null,
   "metadata": {},
   "outputs": [],
   "source": [
    "bbbc022_na_feature  <- cytominer::drop_na_columns(\n",
    "    population = bbbc022  %>% \n",
    "                filter(\n",
    "                    Metadata_broad_sample == \"DMSO\"\n",
    "                ) %>% \n",
    "                slice(1:100),\n",
    "    variables = common_features,\n",
    "    cutoff = 0\n",
    "    )\n",
    "\n",
    "#bbbc036_na_feature  <- cytominer::drop_na_columns(\n",
    "#    population = bbbc036,\n",
    "#    variables = common_features,\n",
    "#    cutoff = 0\n",
    "#    )"
   ]
  },
  {
   "cell_type": "code",
   "execution_count": null,
   "metadata": {},
   "outputs": [],
   "source": [
    "bbbc022_na_feature %>% print"
   ]
  },
  {
   "cell_type": "code",
   "execution_count": null,
   "metadata": {},
   "outputs": [],
   "source": [
    "features_to_remove  <- cytominer::variance_threshold(\n",
    "    variables = common_features,\n",
    "    sample = bbbc022  %>% \n",
    "                filter(\n",
    "                    Metadata_broad_sample == \"DMSO\"\n",
    "                ) %>% \n",
    "                slice(1:100)\n",
    ")"
   ]
  },
  {
   "cell_type": "code",
   "execution_count": null,
   "metadata": {},
   "outputs": [],
   "source": []
  },
  {
   "cell_type": "markdown",
   "metadata": {},
   "source": [
    "# Concatenate data sets"
   ]
  },
  {
   "cell_type": "code",
   "execution_count": null,
   "metadata": {},
   "outputs": [],
   "source": [
    "population  <- rbind(\n",
    "    bbbc022 %>% \n",
    "        select(c(common_metadata, common_features)),\n",
    "    bbbc036 %>% \n",
    "        select(c(common_metadata, common_features))\n",
    "    ) %>% \n",
    "    mutate(Metadata_perturbation = 'chemical') %>% \n",
    "    select(Metadata_perturbation, everything())"
   ]
  },
  {
   "cell_type": "markdown",
   "metadata": {},
   "source": [
    "## Important: update column names! "
   ]
  },
  {
   "cell_type": "code",
   "execution_count": null,
   "metadata": {},
   "outputs": [],
   "source": [
    "colnames_combined  <- colnames(population)\n",
    "\n",
    "common_metadata  <- c(\n",
    "   stringr::str_subset(colnames_combined, \"^Meta\")\n",
    ") \n",
    "\n",
    "common_features  <- setdiff(colnames_combined, common_metadata)\n"
   ]
  },
  {
   "cell_type": "markdown",
   "metadata": {},
   "source": [
    "Cytominer has problems handling column names '1', '2' so we rename them to 'Feature_1', ... "
   ]
  },
  {
   "cell_type": "code",
   "execution_count": null,
   "metadata": {},
   "outputs": [],
   "source": [
    "common_features  <- paste0(\"Feature_\",common_features)\n",
    "colnames(population)  <- c(common_metadata, common_features)"
   ]
  },
  {
   "cell_type": "markdown",
   "metadata": {},
   "source": [
    "# Normalize data\n",
    "We use cytominer to normalize both datasets with respect to the controls, i.e. EMPTY genes"
   ]
  },
  {
   "cell_type": "code",
   "execution_count": null,
   "metadata": {},
   "outputs": [],
   "source": [
    "population_normalized  <- cytominer::normalize(\n",
    "    population, \n",
    "    variables = common_features, \n",
    "    strata = c(\"Metadata_perturbation\"), \n",
    "    sample = population %>% \n",
    "                filter(\n",
    "                    Metadata_broad_sample == \"DMSO\"\n",
    "                ) %>% \n",
    "                slice(1:100), \n",
    "    operation = \"standardize\"\n",
    ")"
   ]
  },
  {
   "cell_type": "code",
   "execution_count": null,
   "metadata": {},
   "outputs": [],
   "source": [
    "population_normalized %>% dim() %>% print"
   ]
  },
  {
   "cell_type": "markdown",
   "metadata": {},
   "source": [
    "# Aggregate data "
   ]
  },
  {
   "cell_type": "code",
   "execution_count": null,
   "metadata": {},
   "outputs": [],
   "source": [
    "population_aggregated  <- cytominer::aggregate(\n",
    "    population = population_normalized, \n",
    "    variables = common_features, \n",
    "    strata = c(\"Metadata_broad_sample\",\"Metadata_dataset\"), \n",
    "    operation = \"mean\"\n",
    ") "
   ]
  },
  {
   "cell_type": "code",
   "execution_count": null,
   "metadata": {},
   "outputs": [],
   "source": [
    "population_normalized %>% extract2(\"Metadata_broad_sample\") %>% print"
   ]
  },
  {
   "cell_type": "code",
   "execution_count": null,
   "metadata": {},
   "outputs": [],
   "source": [
    "population_aggregated %>% slice(1:2) %>% print"
   ]
  },
  {
   "cell_type": "markdown",
   "metadata": {},
   "source": [
    "# Correlation matrix "
   ]
  },
  {
   "cell_type": "code",
   "execution_count": null,
   "metadata": {},
   "outputs": [],
   "source": [
    "cor_matrix  <- cor(\n",
    "    x = population_aggregated %>% \n",
    "        filter(Metadata_dataset == 'BBBC022') %>% \n",
    "        select(common_features) %>% \n",
    "        as.matrix() %>% \n",
    "        t, \n",
    "    y = population_aggregated %>% \n",
    "        filter(Metadata_dataset == 'BBBC036') %>% \n",
    "        select(common_features) %>% \n",
    "        as.matrix() %>% \n",
    "        t,\n",
    "    use  = \"complete.obs\"\n",
    "    ) \n"
   ]
  },
  {
   "cell_type": "markdown",
   "metadata": {},
   "source": [
    "# Submision file "
   ]
  },
  {
   "cell_type": "code",
   "execution_count": null,
   "metadata": {},
   "outputs": [],
   "source": [
    "# set column names \n",
    "colnames(cor_matrix)  <- population_aggregated %>% \n",
    "                            filter(Metadata_dataset == 'BBBC036') %>%\n",
    "                            extract2(\"Metadata_pert_id\")\n",
    "\n",
    "# set row names \n",
    "#rownames(cor_matrix)  <- population_aggregated %>% \n",
    "#                            filter(Metadata_dataset == 'BBBC036') %>%\n",
    "#                            extract2(\"Metadata_broad_sample\")#\n"
   ]
  },
  {
   "cell_type": "code",
   "execution_count": null,
   "metadata": {},
   "outputs": [],
   "source": [
    "df  <- cor_matrix %>% as_data_frame() %>% \n",
    "            mutate(Metadata_pert_id = population_aggregated %>% \n",
    "                            filter(Metadata_dataset == 'BBBC022') %>%\n",
    "                            extract2(\"Metadata_pert_id\")) %>% \n",
    "            select(Metadata_pert_id, everything())\n",
    "\n",
    "# write submission file\n",
    "write.csv(df,\"../cytodata-baseline_R_day_2.csv\",row.names = FALSE)"
   ]
  },
  {
   "cell_type": "code",
   "execution_count": null,
   "metadata": {},
   "outputs": [],
   "source": [
    "df %>% print"
   ]
  }
 ],
 "metadata": {
  "kernelspec": {
   "display_name": "R",
   "language": "R",
   "name": "ir"
  },
  "language_info": {
   "codemirror_mode": "r",
   "file_extension": ".r",
   "mimetype": "text/x-r-source",
   "name": "R",
   "pygments_lexer": "r",
   "version": "3.4.4"
  }
 },
 "nbformat": 4,
 "nbformat_minor": 2
}
