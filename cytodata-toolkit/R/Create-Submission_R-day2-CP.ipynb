{
 "cells": [
  {
   "cell_type": "code",
   "execution_count": 1,
   "metadata": {
    "scrolled": true
   },
   "outputs": [
    {
     "name": "stderr",
     "output_type": "stream",
     "text": [
      "── Attaching packages ─────────────────────────────────────── tidyverse 1.2.1 ──\n",
      "✔ ggplot2 3.0.0     ✔ purrr   0.2.5\n",
      "✔ tibble  1.4.2     ✔ dplyr   0.7.6\n",
      "✔ tidyr   0.8.1     ✔ stringr 1.3.1\n",
      "✔ readr   1.1.1     ✔ forcats 0.3.0\n",
      "── Conflicts ────────────────────────────────────────── tidyverse_conflicts() ──\n",
      "✖ dplyr::filter() masks stats::filter()\n",
      "✖ dplyr::lag()    masks stats::lag()\n",
      "\n",
      "Attaching package: ‘cytominer’\n",
      "\n",
      "The following object is masked from ‘package:stats’:\n",
      "\n",
      "    aggregate\n",
      "\n",
      "The following object is masked from ‘package:base’:\n",
      "\n",
      "    transform\n",
      "\n",
      "\n",
      "Attaching package: ‘magrittr’\n",
      "\n",
      "The following object is masked from ‘package:purrr’:\n",
      "\n",
      "    set_names\n",
      "\n",
      "The following object is masked from ‘package:tidyr’:\n",
      "\n",
      "    extract\n",
      "\n"
     ]
    }
   ],
   "source": [
    "library(tidyverse)\n",
    "library(cytominer)\n",
    "library(magrittr)"
   ]
  },
  {
   "cell_type": "markdown",
   "metadata": {},
   "source": [
    "# function to load different data sets\n",
    "This function also adds the Metdata columns Metadata_dataset, Metadata_partition and Metadata_features"
   ]
  },
  {
   "cell_type": "code",
   "execution_count": 2,
   "metadata": {},
   "outputs": [],
   "source": [
    "load_dataset  <- function(partition, dataset,feature){\n",
    "    file_name  <- read_csv(\"../datasets.csv\") \n",
    "    x  <-  file_name %>% filter(\n",
    "         Partition == partition,\n",
    "         Dataset == dataset,\n",
    "         Features == feature) %>% \n",
    "         extract2(\"Link\")\n",
    "\n",
    "    return(read_csv(x) %>% \n",
    "          mutate(Metadata_dataset = dataset) %>%\n",
    "          mutate(Metadata_partition = partition) %>% \n",
    "          mutate(Metadata_features = feature) \n",
    "          )\n",
    "    }"
   ]
  },
  {
   "cell_type": "markdown",
   "metadata": {},
   "source": [
    "# Load data \n",
    "We load training and test datasets for both BBBC036 / CDRP data set and select only important Metadata colums"
   ]
  },
  {
   "cell_type": "code",
   "execution_count": 3,
   "metadata": {
    "scrolled": true
   },
   "outputs": [
    {
     "name": "stderr",
     "output_type": "stream",
     "text": [
      "Parsed with column specification:\n",
      "cols(\n",
      "  Dataset = col_character(),\n",
      "  Partition = col_character(),\n",
      "  Features = col_character(),\n",
      "  Link = col_character()\n",
      ")\n",
      "Parsed with column specification:\n",
      "cols(\n",
      "  .default = col_double(),\n",
      "  Metadata_Plate = col_integer(),\n",
      "  Metadata_Well = col_character(),\n",
      "  Metadata_Assay_Plate_Barcode = col_integer(),\n",
      "  Metadata_Plate_Map_Name = col_character(),\n",
      "  Metadata_well_position = col_character(),\n",
      "  Metadata_ASSAY_WELL_ROLE = col_character(),\n",
      "  Metadata_broad_sample = col_character(),\n",
      "  Metadata_solvent = col_character(),\n",
      "  Metadata_pert_id = col_character(),\n",
      "  Metadata_pert_mfc_id = col_character(),\n",
      "  Metadata_pert_well = col_character(),\n",
      "  Metadata_pert_id_vendor = col_character(),\n",
      "  Metadata_cell_id = col_character(),\n",
      "  Metadata_broad_sample_type = col_character(),\n",
      "  Metadata_pert_vehicle = col_character(),\n",
      "  Metadata_pert_type = col_character(),\n",
      "  Cells_AreaShape_EulerNumber = col_integer(),\n",
      "  Cells_Children_Cytoplasm_Count = col_integer(),\n",
      "  Cells_Neighbors_FirstClosestObjectNumber_5 = col_integer(),\n",
      "  Cells_Neighbors_FirstClosestObjectNumber_Adjacent = col_integer()\n",
      "  # ... with 20 more columns\n",
      ")\n",
      "See spec(...) for full column specifications.\n",
      "Warning message in rbind(names(probs), probs_f):\n",
      "“number of columns of result is not a multiple of vector length (arg 1)”Warning message:\n",
      "“2201 parsing failures.\n",
      "row # A tibble: 5 x 5 col     row col                  expected      actual file                          expected   <int> <chr>                <chr>         <chr>  <chr>                         actual 1  1013 Cells_Neighbors_Fir… no trailing … .5     'https://s3.amazonaws.com/cy… file 2  1013 Cells_Neighbors_Fir… no trailing … .5     'https://s3.amazonaws.com/cy… row 3  1013 Nuclei_AreaShape_Ar… no trailing … .5     'https://s3.amazonaws.com/cy… col 4  1013 Nuclei_Neighbors_Se… no trailing … .5     'https://s3.amazonaws.com/cy… expected 5  1017 Nuclei_AreaShape_Ar… no trailing … .5     'https://s3.amazonaws.com/cy…\n",
      "... ................. ... ............................................................................... ........ ............................................................................... ...... ............................................................................... .... ............................................................................... ... ............................................................................... ... ............................................................................... ........ ...............................................................................\n",
      "See problems(...) for more details.\n",
      "”Parsed with column specification:\n",
      "cols(\n",
      "  Dataset = col_character(),\n",
      "  Partition = col_character(),\n",
      "  Features = col_character(),\n",
      "  Link = col_character()\n",
      ")\n",
      "Parsed with column specification:\n",
      "cols(\n",
      "  .default = col_double(),\n",
      "  Metadata_Plate = col_integer(),\n",
      "  Metadata_Well = col_character(),\n",
      "  Metadata_Assay_Plate_Barcode = col_integer(),\n",
      "  Metadata_Plate_Map_Name = col_character(),\n",
      "  Metadata_well_position = col_character(),\n",
      "  Metadata_ASSAY_WELL_ROLE = col_character(),\n",
      "  Metadata_broad_sample = col_character(),\n",
      "  Metadata_solvent = col_character(),\n",
      "  Metadata_pert_id = col_character(),\n",
      "  Metadata_pert_mfc_id = col_character(),\n",
      "  Metadata_pert_well = col_character(),\n",
      "  Metadata_pert_id_vendor = col_character(),\n",
      "  Metadata_cell_id = col_character(),\n",
      "  Metadata_broad_sample_type = col_character(),\n",
      "  Metadata_pert_vehicle = col_character(),\n",
      "  Metadata_pert_type = col_character(),\n",
      "  Cells_AreaShape_EulerNumber = col_integer(),\n",
      "  Cells_Children_Cytoplasm_Count = col_integer(),\n",
      "  Cytoplasm_AreaShape_EulerNumber = col_integer(),\n",
      "  Cytoplasm_Correlation_Manders_AGP_DNA = col_integer()\n",
      "  # ... with 31 more columns\n",
      ")\n",
      "See spec(...) for full column specifications.\n",
      "Warning message in rbind(names(probs), probs_f):\n",
      "“number of columns of result is not a multiple of vector length (arg 1)”Warning message:\n",
      "“33 parsing failures.\n",
      "row # A tibble: 5 x 5 col     row col              expected      actual    file                           expected   <int> <chr>            <chr>         <chr>     <chr>                          actual 1  1103 Nuclei_Correlat… no trailing … .8570798… 'https://s3.amazonaws.com/cyt… file 2  1103 Nuclei_Correlat… no trailing … .5790690… 'https://s3.amazonaws.com/cyt… row 3  1103 Nuclei_Correlat… no trailing … .9671379… 'https://s3.amazonaws.com/cyt… col 4  1103 Nuclei_Correlat… no trailing … .6148584… 'https://s3.amazonaws.com/cyt… expected 5  1104 Nuclei_Correlat… no trailing … .9769246… 'https://s3.amazonaws.com/cyt…\n",
      "... ................. ... ............................................................................... ........ ............................................................................... ...... ............................................................................... .... ............................................................................... ... ............................................................................... ... ............................................................................... ........ ...............................................................................\n",
      "See problems(...) for more details.\n",
      "”"
     ]
    }
   ],
   "source": [
    "# bbbc36 data \n",
    "bbbc036_train  <- load_dataset(\"Train\",\"BBBC036\",\"CellProfiler\")  %>% \n",
    "    mutate(Metadata_x_mutation_status = \"none\")\n",
    "\n",
    "bbbc036_test <- load_dataset(\"Test\",\"BBBC036\",\"CellProfiler\")  %>% \n",
    "    mutate(Metadata_x_mutation_status = \"none\")\n"
   ]
  },
  {
   "cell_type": "code",
   "execution_count": 4,
   "metadata": {},
   "outputs": [],
   "source": [
    "bbbc036  <- rbind(bbbc036_train, bbbc036_test)  "
   ]
  },
  {
   "cell_type": "markdown",
   "metadata": {},
   "source": [
    "# How large are the data sets? "
   ]
  },
  {
   "cell_type": "code",
   "execution_count": 5,
   "metadata": {},
   "outputs": [
    {
     "data": {
      "text/html": [
       "<ol class=list-inline>\n",
       "\t<li>18929</li>\n",
       "\t<li>1805</li>\n",
       "</ol>\n"
      ],
      "text/latex": [
       "\\begin{enumerate*}\n",
       "\\item 18929\n",
       "\\item 1805\n",
       "\\end{enumerate*}\n"
      ],
      "text/markdown": [
       "1. 18929\n",
       "2. 1805\n",
       "\n",
       "\n"
      ],
      "text/plain": [
       "[1] 18929  1805"
      ]
     },
     "metadata": {},
     "output_type": "display_data"
    },
    {
     "data": {
      "text/html": [
       "<ol class=list-inline>\n",
       "\t<li>2177</li>\n",
       "\t<li>1805</li>\n",
       "</ol>\n"
      ],
      "text/latex": [
       "\\begin{enumerate*}\n",
       "\\item 2177\n",
       "\\item 1805\n",
       "\\end{enumerate*}\n"
      ],
      "text/markdown": [
       "1. 2177\n",
       "2. 1805\n",
       "\n",
       "\n"
      ],
      "text/plain": [
       "[1] 2177 1805"
      ]
     },
     "metadata": {},
     "output_type": "display_data"
    }
   ],
   "source": [
    "bbbc036_train %>% dim()\n",
    "bbbc036_test %>% dim()"
   ]
  },
  {
   "cell_type": "markdown",
   "metadata": {},
   "source": [
    "# What are the Metadata colums?"
   ]
  },
  {
   "cell_type": "code",
   "execution_count": 6,
   "metadata": {},
   "outputs": [
    {
     "name": "stdout",
     "output_type": "stream",
     "text": [
      "# A tibble: 5 x 4\n",
      "  Metadata_Plate Metadata_Well Metadata_Plate_Map_Name Metadata_pert_id\n",
      "           <int> <chr>         <chr>                   <chr>           \n",
      "1          24277 a01           H-BIOA-004-3            BRD-K18250272   \n",
      "2          24277 a02           H-BIOA-004-3            BRD-K18316707   \n",
      "3          24277 a03           H-BIOA-004-3            BRD-K18438502   \n",
      "4          24277 a04           H-BIOA-004-3            BRD-K18550767   \n",
      "5          24277 a05           H-BIOA-004-3            BRD-K18574842   \n"
     ]
    }
   ],
   "source": [
    "bbbc036 %>% \n",
    "    select(Metadata_Plate, Metadata_Well, Metadata_Plate_Map_Name, Metadata_pert_id) %>% \n",
    "    slice(1:5) %>% \n",
    "    print()"
   ]
  },
  {
   "cell_type": "code",
   "execution_count": 27,
   "metadata": {},
   "outputs": [
    {
     "name": "stdout",
     "output_type": "stream",
     "text": [
      "# A tibble: 5 x 4\n",
      "  Metadata_pert_id Metadata_broad_sample_ty… Metadata_dataset Metadata_partiti…\n",
      "  <chr>            <chr>                     <chr>            <chr>            \n",
      "1 BRD-K18250272    trt                       BBBC036          Train            \n",
      "2 BRD-K18316707    trt                       BBBC036          Train            \n",
      "3 BRD-K18438502    trt                       BBBC036          Train            \n",
      "4 BRD-K18550767    trt                       BBBC036          Train            \n",
      "5 BRD-K18574842    trt                       BBBC036          Train            \n"
     ]
    }
   ],
   "source": [
    "bbbc036 %>% \n",
    "    select( Metadata_pert_id, Metadata_broad_sample_type,Metadata_dataset, Metadata_partition) %>% \n",
    "    slice(1:5) %>% \n",
    "    print()"
   ]
  },
  {
   "cell_type": "markdown",
   "metadata": {},
   "source": [
    "# how many replicates do we have? "
   ]
  },
  {
   "cell_type": "code",
   "execution_count": 8,
   "metadata": {},
   "outputs": [
    {
     "data": {
      "text/html": [
       "<table>\n",
       "<thead><tr><th scope=col>Metadata_Plate_Map_Name</th><th scope=col>mean_replicates</th></tr></thead>\n",
       "<tbody>\n",
       "\t<tr><td>H-BIOA-001-3</td><td>9.600000    </td></tr>\n",
       "\t<tr><td>H-BIOA-002-3</td><td>8.373832    </td></tr>\n",
       "\t<tr><td>H-BIOA-003-3</td><td>9.554517    </td></tr>\n",
       "\t<tr><td>H-BIOA-004-3</td><td>9.570093    </td></tr>\n",
       "\t<tr><td>H-BIOA-005-3</td><td>9.563863    </td></tr>\n",
       "\t<tr><td>H-BIOA-006-3</td><td>9.554517    </td></tr>\n",
       "\t<tr><td>H-BIOA-007-3</td><td>9.593750    </td></tr>\n",
       "</tbody>\n",
       "</table>\n"
      ],
      "text/latex": [
       "\\begin{tabular}{r|ll}\n",
       " Metadata\\_Plate\\_Map\\_Name & mean\\_replicates\\\\\n",
       "\\hline\n",
       "\t H-BIOA-001-3 & 9.600000    \\\\\n",
       "\t H-BIOA-002-3 & 8.373832    \\\\\n",
       "\t H-BIOA-003-3 & 9.554517    \\\\\n",
       "\t H-BIOA-004-3 & 9.570093    \\\\\n",
       "\t H-BIOA-005-3 & 9.563863    \\\\\n",
       "\t H-BIOA-006-3 & 9.554517    \\\\\n",
       "\t H-BIOA-007-3 & 9.593750    \\\\\n",
       "\\end{tabular}\n"
      ],
      "text/markdown": [
       "\n",
       "Metadata_Plate_Map_Name | mean_replicates | \n",
       "|---|---|---|---|---|---|---|\n",
       "| H-BIOA-001-3 | 9.600000     | \n",
       "| H-BIOA-002-3 | 8.373832     | \n",
       "| H-BIOA-003-3 | 9.554517     | \n",
       "| H-BIOA-004-3 | 9.570093     | \n",
       "| H-BIOA-005-3 | 9.563863     | \n",
       "| H-BIOA-006-3 | 9.554517     | \n",
       "| H-BIOA-007-3 | 9.593750     | \n",
       "\n",
       "\n"
      ],
      "text/plain": [
       "  Metadata_Plate_Map_Name mean_replicates\n",
       "1 H-BIOA-001-3            9.600000       \n",
       "2 H-BIOA-002-3            8.373832       \n",
       "3 H-BIOA-003-3            9.554517       \n",
       "4 H-BIOA-004-3            9.570093       \n",
       "5 H-BIOA-005-3            9.563863       \n",
       "6 H-BIOA-006-3            9.554517       \n",
       "7 H-BIOA-007-3            9.593750       "
      ]
     },
     "metadata": {},
     "output_type": "display_data"
    }
   ],
   "source": [
    "bbbc036 %>% \n",
    "    group_by(Metadata_Plate_Map_Name, Metadata_pert_id) %>%\n",
    "    summarise(n_groups = n()) %>%\n",
    "    summarise(mean_replicates = mean(n_groups))"
   ]
  },
  {
   "cell_type": "code",
   "execution_count": 9,
   "metadata": {
    "scrolled": true
   },
   "outputs": [
    {
     "name": "stderr",
     "output_type": "stream",
     "text": [
      "Parsed with column specification:\n",
      "cols(\n",
      "  Dataset = col_character(),\n",
      "  Partition = col_character(),\n",
      "  Features = col_character(),\n",
      "  Link = col_character()\n",
      ")\n",
      "Parsed with column specification:\n",
      "cols(\n",
      "  .default = col_double(),\n",
      "  Metadata_Plate = col_integer(),\n",
      "  Metadata_Well = col_character(),\n",
      "  Metadata_Assay_Plate_Barcode = col_integer(),\n",
      "  Metadata_Plate_Map_Name = col_character(),\n",
      "  Metadata_well_position = col_character(),\n",
      "  Metadata_broad_sample = col_character(),\n",
      "  Metadata_source_name = col_character(),\n",
      "  Metadata_compound_name = col_character(),\n",
      "  Metadata_smiles = col_character(),\n",
      "  Metadata_solvent = col_character(),\n",
      "  Metadata_pert_id = col_character(),\n",
      "  Metadata_pert_mfc_id = col_character(),\n",
      "  Metadata_pert_well = col_character(),\n",
      "  Metadata_pert_id_vendor = col_character(),\n",
      "  Metadata_cell_id = col_character(),\n",
      "  Metadata_broad_sample_type = col_character(),\n",
      "  Metadata_pert_vehicle = col_character(),\n",
      "  Metadata_pert_type = col_character(),\n",
      "  Metadata_exp = col_character()\n",
      ")\n",
      "See spec(...) for full column specifications.\n",
      "Parsed with column specification:\n",
      "cols(\n",
      "  Dataset = col_character(),\n",
      "  Partition = col_character(),\n",
      "  Features = col_character(),\n",
      "  Link = col_character()\n",
      ")\n",
      "Parsed with column specification:\n",
      "cols(\n",
      "  .default = col_double(),\n",
      "  Metadata_Plate = col_integer(),\n",
      "  Metadata_Well = col_character(),\n",
      "  Metadata_Assay_Plate_Barcode = col_integer(),\n",
      "  Metadata_Plate_Map_Name = col_character(),\n",
      "  Metadata_well_position = col_character(),\n",
      "  Metadata_broad_sample = col_character(),\n",
      "  Metadata_source_name = col_character(),\n",
      "  Metadata_compound_name = col_character(),\n",
      "  Metadata_smiles = col_character(),\n",
      "  Metadata_solvent = col_character(),\n",
      "  Metadata_pert_id = col_character(),\n",
      "  Metadata_pert_mfc_id = col_character(),\n",
      "  Metadata_pert_well = col_character(),\n",
      "  Metadata_pert_id_vendor = col_character(),\n",
      "  Metadata_cell_id = col_character(),\n",
      "  Metadata_broad_sample_type = col_character(),\n",
      "  Metadata_pert_vehicle = col_character(),\n",
      "  Metadata_pert_type = col_character(),\n",
      "  Metadata_exp = col_character()\n",
      ")\n",
      "See spec(...) for full column specifications.\n"
     ]
    }
   ],
   "source": [
    "# bbbc022 data \n",
    "bbbc022_train  <- load_dataset(\"Train\",\"BBBC022\",\"CellProfiler\")\n",
    " \n",
    "bbbc022_test <- load_dataset(\"Test\",\"BBBC022\",\"CellProfiler\")\n",
    "\n",
    "bbbc022  <- rbind(bbbc022_train, bbbc022_test) %>%\n",
    "  select(Metadata_Plate, Metadata_Well, Metadata_Plate_Map_Name, \n",
    "         Metadata_pert_id, Metadata_broad_sample_type,\n",
    "         Metadata_dataset,Metadata_partition, \n",
    "         everything()\n",
    "        ) "
   ]
  },
  {
   "cell_type": "markdown",
   "metadata": {},
   "source": [
    "# How large are the training and test partitions for BBBC022?"
   ]
  },
  {
   "cell_type": "code",
   "execution_count": 10,
   "metadata": {},
   "outputs": [
    {
     "data": {
      "text/html": [
       "<ol class=list-inline>\n",
       "\t<li>6462</li>\n",
       "\t<li>1806</li>\n",
       "</ol>\n"
      ],
      "text/latex": [
       "\\begin{enumerate*}\n",
       "\\item 6462\n",
       "\\item 1806\n",
       "\\end{enumerate*}\n"
      ],
      "text/markdown": [
       "1. 6462\n",
       "2. 1806\n",
       "\n",
       "\n"
      ],
      "text/plain": [
       "[1] 6462 1806"
      ]
     },
     "metadata": {},
     "output_type": "display_data"
    },
    {
     "data": {
      "text/html": [
       "<ol class=list-inline>\n",
       "\t<li>1120</li>\n",
       "\t<li>1806</li>\n",
       "</ol>\n"
      ],
      "text/latex": [
       "\\begin{enumerate*}\n",
       "\\item 1120\n",
       "\\item 1806\n",
       "\\end{enumerate*}\n"
      ],
      "text/markdown": [
       "1. 1120\n",
       "2. 1806\n",
       "\n",
       "\n"
      ],
      "text/plain": [
       "[1] 1120 1806"
      ]
     },
     "metadata": {},
     "output_type": "display_data"
    }
   ],
   "source": [
    "bbbc022_train %>% dim()\n",
    "bbbc022_test %>% dim()"
   ]
  },
  {
   "cell_type": "code",
   "execution_count": 11,
   "metadata": {},
   "outputs": [
    {
     "data": {
      "text/html": [
       "<table>\n",
       "<thead><tr><th scope=col>Metadata_Plate_Map_Name</th><th scope=col>mean_replicates</th></tr></thead>\n",
       "<tbody>\n",
       "\t<tr><td>H-BIOA-002-1</td><td>4.860759    </td></tr>\n",
       "\t<tr><td>H-BIOA-003-1</td><td>4.780255    </td></tr>\n",
       "\t<tr><td>H-BIOA-004-1</td><td>4.830128    </td></tr>\n",
       "\t<tr><td>H-BIOA-005-1</td><td>4.816456    </td></tr>\n",
       "\t<tr><td>H-BIOA-006-1</td><td>4.797468    </td></tr>\n",
       "</tbody>\n",
       "</table>\n"
      ],
      "text/latex": [
       "\\begin{tabular}{r|ll}\n",
       " Metadata\\_Plate\\_Map\\_Name & mean\\_replicates\\\\\n",
       "\\hline\n",
       "\t H-BIOA-002-1 & 4.860759    \\\\\n",
       "\t H-BIOA-003-1 & 4.780255    \\\\\n",
       "\t H-BIOA-004-1 & 4.830128    \\\\\n",
       "\t H-BIOA-005-1 & 4.816456    \\\\\n",
       "\t H-BIOA-006-1 & 4.797468    \\\\\n",
       "\\end{tabular}\n"
      ],
      "text/markdown": [
       "\n",
       "Metadata_Plate_Map_Name | mean_replicates | \n",
       "|---|---|---|---|---|\n",
       "| H-BIOA-002-1 | 4.860759     | \n",
       "| H-BIOA-003-1 | 4.780255     | \n",
       "| H-BIOA-004-1 | 4.830128     | \n",
       "| H-BIOA-005-1 | 4.816456     | \n",
       "| H-BIOA-006-1 | 4.797468     | \n",
       "\n",
       "\n"
      ],
      "text/plain": [
       "  Metadata_Plate_Map_Name mean_replicates\n",
       "1 H-BIOA-002-1            4.860759       \n",
       "2 H-BIOA-003-1            4.780255       \n",
       "3 H-BIOA-004-1            4.830128       \n",
       "4 H-BIOA-005-1            4.816456       \n",
       "5 H-BIOA-006-1            4.797468       "
      ]
     },
     "metadata": {},
     "output_type": "display_data"
    }
   ],
   "source": [
    "bbbc022 %>% \n",
    "    group_by(Metadata_Plate_Map_Name, Metadata_pert_id) %>%\n",
    "    summarise(n_groups = n()) %>%\n",
    "    summarise(mean_replicates = mean(n_groups))"
   ]
  },
  {
   "cell_type": "markdown",
   "metadata": {},
   "source": [
    "# How large are the combined data sets? "
   ]
  },
  {
   "cell_type": "code",
   "execution_count": 12,
   "metadata": {},
   "outputs": [
    {
     "data": {
      "text/html": [
       "<ol class=list-inline>\n",
       "\t<li>7582</li>\n",
       "\t<li>1806</li>\n",
       "</ol>\n"
      ],
      "text/latex": [
       "\\begin{enumerate*}\n",
       "\\item 7582\n",
       "\\item 1806\n",
       "\\end{enumerate*}\n"
      ],
      "text/markdown": [
       "1. 7582\n",
       "2. 1806\n",
       "\n",
       "\n"
      ],
      "text/plain": [
       "[1] 7582 1806"
      ]
     },
     "metadata": {},
     "output_type": "display_data"
    },
    {
     "data": {
      "text/html": [
       "<ol class=list-inline>\n",
       "\t<li>21106</li>\n",
       "\t<li>1805</li>\n",
       "</ol>\n"
      ],
      "text/latex": [
       "\\begin{enumerate*}\n",
       "\\item 21106\n",
       "\\item 1805\n",
       "\\end{enumerate*}\n"
      ],
      "text/markdown": [
       "1. 21106\n",
       "2. 1805\n",
       "\n",
       "\n"
      ],
      "text/plain": [
       "[1] 21106  1805"
      ]
     },
     "metadata": {},
     "output_type": "display_data"
    }
   ],
   "source": [
    "dim(bbbc022)\n",
    "dim(bbbc036)"
   ]
  },
  {
   "cell_type": "markdown",
   "metadata": {},
   "source": [
    "## Extract common features and common metadata"
   ]
  },
  {
   "cell_type": "code",
   "execution_count": 13,
   "metadata": {},
   "outputs": [],
   "source": [
    "colnames_bbbc022 <- colnames(bbbc022)\n",
    "colnames_bbbc036 <- colnames(bbbc036)\n",
    "\n",
    "Metadata_names_bbbc022 <- c(\n",
    "   stringr::str_subset(colnames_bbbc022, \"^Meta\")\n",
    ") \n",
    "\n",
    "Metadata_names_bbbc036 <- c(\n",
    "   stringr::str_subset(colnames_bbbc036, \"^Meta\")\n",
    ") \n",
    "\n",
    "common_metadata  <- intersect(Metadata_names_bbbc022, Metadata_names_bbbc036)  \n",
    "common_features  <- setdiff(intersect(colnames_bbbc022, colnames_bbbc036),common_metadata)"
   ]
  },
  {
   "cell_type": "markdown",
   "metadata": {},
   "source": [
    "# Concatenate data sets"
   ]
  },
  {
   "cell_type": "code",
   "execution_count": 14,
   "metadata": {},
   "outputs": [],
   "source": [
    "population  <- rbind(\n",
    "    bbbc022 %>% \n",
    "        select(c(common_metadata, common_features)),\n",
    "    bbbc036 %>% \n",
    "        select(c(common_metadata, common_features))\n",
    "    ) %>% \n",
    "    mutate(Metadata_perturbation = 'chemical') %>% \n",
    "    select(Metadata_perturbation, everything())"
   ]
  },
  {
   "cell_type": "markdown",
   "metadata": {},
   "source": [
    "## Important: update column names! "
   ]
  },
  {
   "cell_type": "code",
   "execution_count": 15,
   "metadata": {},
   "outputs": [],
   "source": [
    "colnames_combined  <- colnames(population)\n",
    "\n",
    "common_metadata  <- c(\n",
    "   stringr::str_subset(colnames_combined, \"^Meta\")\n",
    ") \n",
    "\n",
    "common_features  <- setdiff(colnames_combined, common_metadata)"
   ]
  },
  {
   "cell_type": "markdown",
   "metadata": {},
   "source": [
    "Cytominer has problems handling column names '1', '2' so we rename them to 'Feature_1', ... "
   ]
  },
  {
   "cell_type": "code",
   "execution_count": 16,
   "metadata": {},
   "outputs": [],
   "source": [
    "common_features  <- paste0(\"Feature_\",common_features)\n",
    "colnames(population)  <- c(common_metadata, common_features)"
   ]
  },
  {
   "cell_type": "markdown",
   "metadata": {},
   "source": [
    "# Normalize data\n",
    "We use cytominer to normalize both datasets with respect to the controls, i.e. EMPTY genes"
   ]
  },
  {
   "cell_type": "code",
   "execution_count": 17,
   "metadata": {},
   "outputs": [],
   "source": [
    "population_normalized  <- cytominer::normalize(\n",
    "    population, \n",
    "    variables = common_features, \n",
    "    strata = c(\"Metadata_perturbation\"), \n",
    "    sample = population %>% \n",
    "                filter(\n",
    "                    Metadata_broad_sample == \"DMSO\",\n",
    "                    Metadata_partition == \"Train\"\n",
    "                ), \n",
    "    operation = \"standardize\"\n",
    ")"
   ]
  },
  {
   "cell_type": "markdown",
   "metadata": {},
   "source": [
    "# Aggregate data "
   ]
  },
  {
   "cell_type": "code",
   "execution_count": 18,
   "metadata": {},
   "outputs": [
    {
     "data": {
      "text/html": [
       "<ol class=list-inline>\n",
       "\t<li>3782</li>\n",
       "\t<li>1786</li>\n",
       "</ol>\n"
      ],
      "text/latex": [
       "\\begin{enumerate*}\n",
       "\\item 3782\n",
       "\\item 1786\n",
       "\\end{enumerate*}\n"
      ],
      "text/markdown": [
       "1. 3782\n",
       "2. 1786\n",
       "\n",
       "\n"
      ],
      "text/plain": [
       "[1] 3782 1786"
      ]
     },
     "metadata": {},
     "output_type": "display_data"
    }
   ],
   "source": [
    "population_aggregated  <- cytominer::aggregate(\n",
    "    population = population_normalized, \n",
    "    variables = common_features, \n",
    "    strata = c(\"Metadata_pert_id\",\"Metadata_dataset\",\"Metadata_partition\"), \n",
    "    operation = \"mean\"\n",
    ") \n",
    "\n",
    "population_aggregated %>% dim()"
   ]
  },
  {
   "cell_type": "code",
   "execution_count": 19,
   "metadata": {},
   "outputs": [
    {
     "data": {
      "text/html": [
       "<ol class=list-inline>\n",
       "\t<li>1543</li>\n",
       "\t<li>1786</li>\n",
       "</ol>\n"
      ],
      "text/latex": [
       "\\begin{enumerate*}\n",
       "\\item 1543\n",
       "\\item 1786\n",
       "\\end{enumerate*}\n"
      ],
      "text/markdown": [
       "1. 1543\n",
       "2. 1786\n",
       "\n",
       "\n"
      ],
      "text/plain": [
       "[1] 1543 1786"
      ]
     },
     "metadata": {},
     "output_type": "display_data"
    },
    {
     "data": {
      "text/html": [
       "<ol class=list-inline>\n",
       "\t<li>2239</li>\n",
       "\t<li>1786</li>\n",
       "</ol>\n"
      ],
      "text/latex": [
       "\\begin{enumerate*}\n",
       "\\item 2239\n",
       "\\item 1786\n",
       "\\end{enumerate*}\n"
      ],
      "text/markdown": [
       "1. 2239\n",
       "2. 1786\n",
       "\n",
       "\n"
      ],
      "text/plain": [
       "[1] 2239 1786"
      ]
     },
     "metadata": {},
     "output_type": "display_data"
    }
   ],
   "source": [
    "population_aggregated %>% filter(Metadata_dataset == \"BBBC022\") %>% dim()\n",
    "population_aggregated %>% filter(Metadata_dataset == \"BBBC036\") %>% dim()"
   ]
  },
  {
   "cell_type": "markdown",
   "metadata": {},
   "source": [
    "# Correlation matrix "
   ]
  },
  {
   "cell_type": "code",
   "execution_count": 20,
   "metadata": {},
   "outputs": [
    {
     "data": {
      "text/html": [
       "<ol class=list-inline>\n",
       "\t<li>1543</li>\n",
       "\t<li>2239</li>\n",
       "</ol>\n"
      ],
      "text/latex": [
       "\\begin{enumerate*}\n",
       "\\item 1543\n",
       "\\item 2239\n",
       "\\end{enumerate*}\n"
      ],
      "text/markdown": [
       "1. 1543\n",
       "2. 2239\n",
       "\n",
       "\n"
      ],
      "text/plain": [
       "[1] 1543 2239"
      ]
     },
     "metadata": {},
     "output_type": "display_data"
    }
   ],
   "source": [
    "cor_matrix  <- cor(\n",
    "    x = population_aggregated %>% \n",
    "        filter(Metadata_dataset == 'BBBC022') %>% \n",
    "        select(common_features) %>% \n",
    "        as.matrix() %>% \n",
    "        t, \n",
    "    y = population_aggregated %>% \n",
    "        filter(Metadata_dataset == 'BBBC036') %>% \n",
    "        select(common_features) %>% \n",
    "        as.matrix() %>% \n",
    "        t,\n",
    "    use  = \"complete.obs\"\n",
    "    ) \n",
    "\n",
    "cor_matrix %>% dim()"
   ]
  },
  {
   "cell_type": "markdown",
   "metadata": {},
   "source": [
    "# Submision file "
   ]
  },
  {
   "cell_type": "code",
   "execution_count": 21,
   "metadata": {},
   "outputs": [
    {
     "data": {
      "text/html": [
       "<ol class=list-inline>\n",
       "\t<li>1543</li>\n",
       "\t<li>2239</li>\n",
       "</ol>\n"
      ],
      "text/latex": [
       "\\begin{enumerate*}\n",
       "\\item 1543\n",
       "\\item 2239\n",
       "\\end{enumerate*}\n"
      ],
      "text/markdown": [
       "1. 1543\n",
       "2. 2239\n",
       "\n",
       "\n"
      ],
      "text/plain": [
       "[1] 1543 2239"
      ]
     },
     "metadata": {},
     "output_type": "display_data"
    }
   ],
   "source": [
    "# set column names \n",
    "colnames(cor_matrix)  <- population_aggregated %>% \n",
    "                            filter(Metadata_dataset == 'BBBC036') %>%\n",
    "                            extract2(\"Metadata_pert_id\")\n",
    "\n",
    "# set row names \n",
    "#rownames(cor_matrix)  <- population_aggregated %>% \n",
    "#                            filter(Metadata_dataset == 'BBBC036') %>%\n",
    "#                            extract2(\"Metadata_broad_sample\")#\n",
    "\n",
    "cor_matrix %>% dim()"
   ]
  },
  {
   "cell_type": "code",
   "execution_count": 23,
   "metadata": {},
   "outputs": [],
   "source": [
    "df  <- cor_matrix %>% as_data_frame() %>% \n",
    "            mutate(Metadata_pert_id = population_aggregated %>% \n",
    "                            filter(Metadata_dataset == 'BBBC022') %>%\n",
    "                            extract2(\"Metadata_pert_id\")) %>% \n",
    "            select(Metadata_pert_id, everything())\n",
    "\n",
    "# write submission file\n",
    "write.csv(df,\"../cytodata-baseline_R_day_2_CP.csv\",row.names = FALSE)"
   ]
  },
  {
   "cell_type": "code",
   "execution_count": 25,
   "metadata": {},
   "outputs": [
    {
     "data": {
      "text/html": [
       "<ol class=list-inline>\n",
       "\t<li>1543</li>\n",
       "\t<li>2240</li>\n",
       "</ol>\n"
      ],
      "text/latex": [
       "\\begin{enumerate*}\n",
       "\\item 1543\n",
       "\\item 2240\n",
       "\\end{enumerate*}\n"
      ],
      "text/markdown": [
       "1. 1543\n",
       "2. 2240\n",
       "\n",
       "\n"
      ],
      "text/plain": [
       "[1] 1543 2240"
      ]
     },
     "metadata": {},
     "output_type": "display_data"
    }
   ],
   "source": [
    "dim(df)"
   ]
  }
 ],
 "metadata": {
  "kernelspec": {
   "display_name": "R",
   "language": "R",
   "name": "ir"
  },
  "language_info": {
   "codemirror_mode": "r",
   "file_extension": ".r",
   "mimetype": "text/x-r-source",
   "name": "R",
   "pygments_lexer": "r",
   "version": "3.4.4"
  }
 },
 "nbformat": 4,
 "nbformat_minor": 2
}
